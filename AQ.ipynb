{
 "cells": [
  {
   "cell_type": "markdown",
   "metadata": {},
   "source": [
    "## **Algorithmic Question (AQ)**"
   ]
  },
  {
   "cell_type": "markdown",
   "metadata": {},
   "source": [
    "### **a) Pseudocode**"
   ]
  },
  {
   "cell_type": "markdown",
   "metadata": {},
   "source": [
    "**function find_cheapest_travel(n, flights, src, dst, k)**\n",
    "Find the cheapest cost to travel from `src` to `dst` with at most `k` stops\n",
    "\n",
    "**Input:**\n",
    "- n: An integer representing the number of cities\n",
    "- flights: A list of tuples `(u, v, w)` where `u` is the source city, `v` is the destination city, and `w` is the cost of the flight\n",
    "- src: The starting city\n",
    "- dst: The destination city\n",
    "- k: The maximum number of stops allowed\n",
    "\n",
    "**Output:**\n",
    "- The minimum cost to travel from `src` to `dst` with at most `k` stops, or `-1` if it is not possible\n",
    "\n",
    "**Algorithm:**\n",
    "\n",
    "1. Create an adjacency list representation for the graph:\n",
    "   > graph = {i:[] for i in range(n)}\n",
    "   > for each flight `(u, v, w)` in flights:\n",
    "   > - Add `(v, w)` to `graph[u]`\n",
    "\n",
    "2. Initialize a `min_costs` table where `min_costs[city][stops]` represents the minimum cost to reach `city` with `stops` stops:\n",
    "   > min_costs = matrix of size [n][k+2] filled with `inf`\n",
    "   > Set `min_costs[src][0] = 0` to indicate no cost to stay at the starting city\n",
    "\n",
    "3. Use a modified BFS to traverse the graph:\n",
    "   > Initialize a queue: `queue = [(src, 0, 0)]` where each tuple is `(current_city, current_cost, stops)`\n",
    "\n",
    "4. While the queue is not empty:\n",
    "   > Pop the first element `(city, cost, stops)` from the queue\n",
    "   > \n",
    "   > **If stops > k:**\n",
    "   > - Continue to the next iteration (we've exceeded the allowed stops)\n",
    "   > \n",
    "   > **Otherwise, for each neighbor `(neighbor, price)` of `city`:**\n",
    "   > - Calculate `new_cost = cost + price`\n",
    "   > - If `new_cost < min_costs[neighbor][stops+1]`:\n",
    "   >    - Update `min_costs[neighbor][stops+1] = new_cost`\n",
    "   >    - Add `(neighbor, new_cost, stops+1)` to the queue\n",
    "\n",
    "5. After processing all nodes, determine the minimum cost to reach the destination:\n",
    "   > result = minimum value in `min_costs[dst]`\n",
    "\n",
    "6. **If result is unequal to `inf` return `result`, `-1` otherwise (no path found)**"
   ]
  },
  {
   "cell_type": "markdown",
   "metadata": {},
   "source": [
    "### **b) Python program**"
   ]
  },
  {
   "cell_type": "code",
   "execution_count": 45,
   "metadata": {},
   "outputs": [],
   "source": [
    "def find_cheapest_travel(n, flights, src, dst, k):\n",
    "\t\"\"\"\n",
    "\tFinds the cheapest travel cost from the source city to the destination city with up to k stops\n",
    "\tParameters:\n",
    "\t\tn (int): The number of cities\n",
    "\t\tflights (list): A list of flights where each flight is represented as a tuple (u, v, w)\n",
    "\t\t\t\t\t\twith u being the starting city, v being the destination city, and w being the flight cost\n",
    "\t\tsrc (int): The source city\n",
    "\t\tdst (int): The destination city\n",
    "\t\tk (int): The maximum number of stops allowed (so at most k+1 flights)\n",
    "\tReturns:\n",
    "\t\tint: The minimum cost to travel from src to dst with up to k stops. If there is no such route, returns -1\n",
    "\t\"\"\"\n",
    "\tgraph = {i:[] for i in range(n)} # create adjacency list for the graph\n",
    "  \t# each key is a city and the value is a list of tuple representing the neighboring cities and the cost to reach them\n",
    "\tfor u, v, w in flights:\n",
    "\t\tgraph[u].append((v, w))\n",
    "\n",
    "\t# initializes a matrix to store the minimum cost to reach each city with a certain number of stops\n",
    "\tmin_costs = [[float('inf')]*(k+2) for _ in range(n)] # k+2 is used to account for up to k stops, k+1 flights\n",
    "\tmin_costs[src][0] = 0 # and an additional element to include the cost to reach the source city itself (0 stops so is set to 0) \n",
    "\n",
    "\t# perform a modified BFS to update the costs inside min_costs\n",
    "\tqueue = [(src, 0, 0)]  # (current city, current cost to reach the current city, stops needed to reach the current city)\n",
    "\twhile queue:\n",
    "\t\tcity, cost, stops = queue.pop(0) # unpacking the first element of the queue into city, cost and stops\t\n",
    "\t\tif stops > k: # if we have used all the stops allowed\n",
    "\t\t\tcontinue\n",
    "\t\t# explore neighboring cities\n",
    "\t\tfor neighbor, price in graph[city]: # price is the cost to go from city -> neighbor\n",
    "\t\t\tnew_cost = cost + price \t# cost to reach city so far + cost city -> neighbor\n",
    "\t\t\tif new_cost < min_costs[neighbor][stops+1]: # if new_cost is lower than the current cost in min_cost, we update it\n",
    "\t\t\t\tmin_costs[neighbor][stops+1] = new_cost\n",
    "\t\t\t\tqueue.append((neighbor, new_cost, stops+1))\n",
    "\t\n",
    "\t#print(min_costs)\n",
    "\tresult = min(min_costs[dst])\n",
    "\treturn result if result != float('inf') else -1"
   ]
  },
  {
   "cell_type": "code",
   "execution_count": 46,
   "metadata": {},
   "outputs": [
    {
     "name": "stdout",
     "output_type": "stream",
     "text": [
      "The cost will be: 700€ \t(Expected: 700€)\n",
      "The cost will be: 200€ \t(Expected: 200€)\n",
      "The cost will be: 500€ \t(Expected: 500€)\n",
      "The cost will be: 400€ \t(Expected: 400€)\n",
      "The cost will be: 400€ \t(Expected: 400€)\n"
     ]
    }
   ],
   "source": [
    "# test cases\n",
    "\n",
    "test_cases = [\n",
    "      (find_cheapest_travel(4, [[0, 1, 100], [1, 2, 100], [2, 0, 100], [1, 3, 600], [2, 3, 200]], 0, 3, 1), 700),\n",
    "      (find_cheapest_travel(3, [[0, 1, 100], [1, 2, 100], [0, 2, 500]], 0, 2, 1), 200),\n",
    "      (find_cheapest_travel(3, [[0, 1, 100], [1, 2, 100], [0, 2, 500]], 0, 2, 0), 500),\n",
    "      (find_cheapest_travel(4, [[0, 1, 100], [0, 2, 200], [1, 3, 300], [2, 3, 300]], 0, 3, 2), 400),\n",
    "      (find_cheapest_travel(4, [[0, 1, 100], [0, 2, 200], [1, 3, 300], [2, 3, 200]], 0, 3, 2), 400)\n",
    "]\n",
    "\n",
    "for result, expected in test_cases:\n",
    "      print(f\"The cost will be: {result}€ \\t(Expected: {expected}€)\")"
   ]
  },
  {
   "cell_type": "markdown",
   "metadata": {},
   "source": [
    "### **c) Algorithm Efficiency Analysis**"
   ]
  },
  {
   "cell_type": "markdown",
   "metadata": {},
   "source": [
    "**Time Complexity**:\n",
    "- The algorithm uses a Breadth-First Search (BFS) approach with a queue to explore the graph\n",
    "- For each city, it explores all its neighboring cities and in the worst case, each city can have up to n-1 neighbors\n",
    "- The BFS runs for up to k+1 levels (stops)\n",
    "- So the time complexity is O((k+1) $\\cdot$ n $\\cdot$ n) = **O(k $\\cdot$ n^2)**\n",
    "\n",
    "**Space Complexity**:\n",
    "- The space complexity is determined by the space needed to store the graph, the queue, and the cost matrix\n",
    "- The graph requires O(n+E) space, where 'E' is the number of flights\n",
    "- The queue can store up to O(n $\\cdot$ (k+1)) elements in the worst case\n",
    "- The cost matrix requires O(n $\\cdot$ (k+2)) space\n",
    "- So the overall space complexity is O(n+E+n $\\cdot$ (k+2)) = **O(n $\\cdot$ k+E)**\n",
    "\n",
    "**Efficiency for Large Graphs**:\n",
    "- For large graphs (e.g. n>100), the algorithm's efficiency depends on the values of k and E\n",
    "- If k is relatively small compared to n, the algorithm can handle larger graphs efficiently\n",
    "- However, if k is large or if the graph is dense (i.e. E is large), the algorithm may become less efficient due to the quadratic time complexity\n",
    "- In practice, the algorithm is suitable for moderately large graphs but may struggle with very large or dense graphs\n",
    "\n",
    "**Conclusion**:\n",
    "\n",
    "The algorithm has a **time complexity** of **O(k $\\cdot$ n^2)** and a **space complexity** of **O(n $\\cdot$ k+E)**. It is efficient for graphs with a moderate number of cities and flights, especially when the number of stops k is small. For very large or dense graphs, the algorithm may become less efficient."
   ]
  },
  {
   "cell_type": "markdown",
   "metadata": {},
   "source": [
    "### **d) Algorithm Optimization for larger graphs**"
   ]
  },
  {
   "cell_type": "markdown",
   "metadata": {},
   "source": [
    "#### **Pseudocode**"
   ]
  },
  {
   "cell_type": "markdown",
   "metadata": {},
   "source": [
    "**function large_find_cheapest_travel(n, flights, src, dst, k)**\n",
    "Find the cheapest cost to travel from `src` to `dst` with at most `k` stops, optimized for large graphs.\n",
    "\n",
    "**Input:**\n",
    "- n: An integer representing the number of cities\n",
    "- flights: A list of tuples `(u, v, w)` where `u` is the source city, `v` is the destination city, and `w` is the cost of the flight\n",
    "- src: The starting city\n",
    "- dst: The destination city\n",
    "- k: The maximum number of stops allowed\n",
    "\n",
    "**Output:**\n",
    "- The minimum cost to travel from `src` to `dst` with at most `k` stops, or `-1` if it is not possible\n",
    "\n",
    "**Algorithm:**\n",
    "\n",
    "1. Create an adjacency list representation for the graph:\n",
    "   > graph = {i:[] for i in range(n)}\n",
    "   > for each flight `(u, v, w)` in flights:\n",
    "   > - Add `(v, w)` to `graph[u]`\n",
    "\n",
    "2. Initialize a priority queue and a `visited` dictionary:\n",
    "   > queue = [(0, src, 0)]  # (current_cost, current_city, stops)\n",
    "   > visited = {}  # A dictionary where `visited[(city, stops)]` stores the minimum cost to reach `city` with `stops` stops\n",
    "\n",
    "3. While the queue is not empty:\n",
    "   > Pop the element with the smallest cost `(current_cost, city, stops)` from the queue\n",
    "   > \n",
    "   > **If city is `dst`:**\n",
    "   > - Return `current_cost` (destination reached with the minimum cost)\n",
    "   > \n",
    "   > **If stops > k:**\n",
    "   > - Continue to the next iteration (we've exceeded the allowed stops)\n",
    "   > \n",
    "   > **Otherwise, for each neighbor `(neighbor, price)` of `city`:**\n",
    "   > - Calculate `new_cost = current_cost + price`\n",
    "   > - If `(neighbor, stops+1)` is not in `visited` or `new_cost < visited[(neighbor, stops+1)]`:\n",
    "   >    - Update `visited[(neighbor, stops+1)] = new_cost`\n",
    "   >    - Push `(new_cost, neighbor, stops+1)` into the queue\n",
    "\n",
    "4. After processing all nodes:\n",
    "   > If `dst` is not reached, return `-1`\n",
    "\n",
    "5. **Return the minimum cost if possible, otherwise return `-1`**"
   ]
  },
  {
   "cell_type": "markdown",
   "metadata": {},
   "source": [
    "#### **Computational Complexity**"
   ]
  },
  {
   "cell_type": "markdown",
   "metadata": {},
   "source": [
    "**Time Complexity**:\n",
    "- The algorithm uses a priority queue and explores the graph using a Best-First Search approach\n",
    "- For each city, it processes its neighbors and in the worst case, a single city can have up to `n-1` neighbors\n",
    "- The priority queue handles insertions and deletions, each of which takes O(log(x)) time, where x is the number of elements in the queue\n",
    "- Since the algorithm processes each edge at most once, the time complexity is dominated by the number of edges `E` and the operations on the priority queue\n",
    "- So the worst-case time complexity is **O(E $\\cdot$ log(E))**, which accounts for both the graph traversal and priority queue operations\n",
    "\n",
    "**Space Complexity**:\n",
    "- The space complexity is determined by the graph storage, the priority queue, and the visited dictionary\n",
    "- The graph requires O(n+E) space, where `n` is the number of cities and `E` is the number of flights\n",
    "- The priority queue can hold up to O(n $\\cdot$ (k+1)) elements in the worst case\n",
    "- The visited dictionary requires O(n $\\cdot$ (k+1)) space to store costs for each city and stop level\n",
    "- So the overall space complexity is **O(n $\\cdot$ k+E)**"
   ]
  },
  {
   "cell_type": "markdown",
   "metadata": {},
   "source": [
    "### **e) LLM implementation**"
   ]
  },
  {
   "cell_type": "markdown",
   "metadata": {},
   "source": [
    "#### **Optimized version of the algorithm**"
   ]
  },
  {
   "cell_type": "code",
   "execution_count": 47,
   "metadata": {},
   "outputs": [],
   "source": [
    "import heapq\n",
    "\n",
    "def optimized_find_cheapest_travel(n, flights, src, dst, k):\n",
    "    \"\"\"\n",
    "    Finds the cheapest travel cost from the source city to the destination city with up to k stops\n",
    "\n",
    "    Parameters:\n",
    "        n (int): The number of cities\n",
    "        flights (list): A list of flights where each flight is represented as a tuple (u, v, w)\n",
    "                        with u being the starting city, v being the destination city, and w being the flight cost\n",
    "        src (int): The source city\n",
    "        dst (int): The destination city\n",
    "        k (int): The maximum number of stops allowed (so at most k+1 flights)\n",
    "\n",
    "    Returns:\n",
    "        int: The minimum cost to travel from src to dst with up to k stops. If there is no such route, returns -1\n",
    "    \"\"\"\n",
    "    # Build the adjacency list for the graph\n",
    "    graph = {i: [] for i in range(n)}\n",
    "    for u, v, w in flights:\n",
    "        graph[u].append((v, w))\n",
    "\n",
    "    # Priority queue: (current_cost, current_city, stops_used)\n",
    "    pq = [(0, src, 0)]\n",
    "\n",
    "    # Visited dictionary to store the minimum cost to reach a city with a certain number of stops\n",
    "    visited = {}\n",
    "\n",
    "    while pq:\n",
    "        # Pop the city with the lowest cost so far\n",
    "        cost, city, stops = heapq.heappop(pq)\n",
    "\n",
    "        # If we reach the destination with valid stops, return the cost\n",
    "        if city == dst:\n",
    "            return cost\n",
    "\n",
    "        # If we've already used more stops than allowed, skip further processing\n",
    "        if stops > k:\n",
    "            continue\n",
    "\n",
    "        # Avoid processing the same city with the same or more stops if already visited with a lower cost\n",
    "        if (city, stops) in visited and visited[(city, stops)] <= cost:\n",
    "            continue\n",
    "\n",
    "        # Mark this state as visited\n",
    "        visited[(city, stops)] = cost\n",
    "\n",
    "        # Explore neighbors\n",
    "        for neighbor, price in graph[city]:\n",
    "            new_cost = cost + price\n",
    "            # Push the neighbor into the priority queue with updated cost and stops\n",
    "            heapq.heappush(pq, (new_cost, neighbor, stops + 1))\n",
    "\n",
    "    # If no valid path was found\n",
    "    return -1\n"
   ]
  },
  {
   "cell_type": "code",
   "execution_count": 48,
   "metadata": {},
   "outputs": [
    {
     "name": "stdout",
     "output_type": "stream",
     "text": [
      "The cost will be: 700€ \t(Expected: 700€)\n",
      "The cost will be: 200€ \t(Expected: 200€)\n",
      "The cost will be: 500€ \t(Expected: 500€)\n",
      "The cost will be: 400€ \t(Expected: 400€)\n",
      "The cost will be: 400€ \t(Expected: 400€)\n"
     ]
    }
   ],
   "source": [
    "# test cases\n",
    "\n",
    "test_cases = [\n",
    "      (optimized_find_cheapest_travel(4, [[0, 1, 100], [1, 2, 100], [2, 0, 100], [1, 3, 600], [2, 3, 200]], 0, 3, 1), 700), \n",
    "      (optimized_find_cheapest_travel(3, [[0, 1, 100], [1, 2, 100], [0, 2, 500]], 0, 2, 1), 200),\n",
    "      (optimized_find_cheapest_travel(3, [[0, 1, 100], [1, 2, 100], [0, 2, 500]], 0, 2, 0), 500),\n",
    "      (optimized_find_cheapest_travel(4, [[0, 1, 100], [0, 2, 200], [1, 3, 300], [2, 3, 300]], 0, 3, 2), 400),\n",
    "      (optimized_find_cheapest_travel(4, [[0, 1, 100], [0, 2, 200], [1, 3, 300], [2, 3, 200]], 0, 3, 2), 400)\n",
    "]\n",
    "\n",
    "for result, expected in test_cases:\n",
    "      print(f\"The cost will be: {result}€ \\t(Expected: {expected}€)\")"
   ]
  },
  {
   "cell_type": "markdown",
   "metadata": {},
   "source": [
    "#### **Comparison between our and LLM solution**"
   ]
  },
  {
   "cell_type": "markdown",
   "metadata": {},
   "source": [
    "**Performance**:\n",
    "- **Our Solution**:\n",
    "  - The algorithm uses a Breadth-First Search (BFS) to explore paths with up to k+1 stops\n",
    "  - While simple, it explores many redundant or suboptimal paths, leading to slower performance for larger or denser graphs\n",
    "\n",
    "- **LLM Solution**:\n",
    "  - The algorithm employs a priority queue (min-heap) to always process the cheapest path first, minimizing unnecessary exploration\n",
    "  - Early termination when the destination is reached significantly improves runtime\n",
    "\n",
    "**Time Complexity**:\n",
    "- **Our Solution**:\n",
    "  - BFS explores up to k+1 levels, and each level processes up to O(n^2) edges in the worst case\n",
    "  - So the time complexity is **O(k $\\cdot$ n^2)**\n",
    "\n",
    "- **LLM Solution**:\n",
    "  - The exploration used ensures efficient path processing\n",
    "  - So the time complexity is **O(E+n $\\cdot$ log(n))**, where E is the number of edges and n is the number of cities.\n",
    "\n",
    "**Correctness**:\n",
    "- Both algorithms are correct and guarantee finding the cheapest cost path within k+1 flights if it exists.\n",
    "- The optimized solution is more robust for larger datasets due to its prioritization of cheaper paths, avoiding unnecessary computations and ensuring correctness even in complex graphs."
   ]
  }
 ],
 "metadata": {
  "kernelspec": {
   "display_name": "ds",
   "language": "python",
   "name": "python3"
  },
  "language_info": {
   "codemirror_mode": {
    "name": "ipython",
    "version": 3
   },
   "file_extension": ".py",
   "mimetype": "text/x-python",
   "name": "python",
   "nbconvert_exporter": "python",
   "pygments_lexer": "ipython3",
   "version": "3.11.10"
  }
 },
 "nbformat": 4,
 "nbformat_minor": 2
}
